{
 "cells": [
  {
   "cell_type": "code",
   "execution_count": null,
   "metadata": {},
   "outputs": [],
   "source": [
    "# 아마 세세분류까지는 의도에 따라 오차가 있을거 같으니까 # 한단계 윗단계로 적용하기"
   ]
  },
  {
   "cell_type": "code",
   "execution_count": null,
   "metadata": {},
   "outputs": [],
   "source": [
    "'''\n",
    "모델링 적용 데이터 만들때 고려할 것\n",
    "1. 건설사의 도급원가 케이스에서 nm_acctit contain 소모품, 교통비 => 고민하다가 일정한 양상 나타날것 같아서 포함하기로 판단\n",
    "2. 기업은 거래건수 5개 이상으로 필터링\n",
    "3. 맨 마지막에 gr_name1 unique()으로 항목 확인 \n",
    "4. gr_name1 자본 일괄 삭제\n",
    "'''"
   ]
  },
  {
   "cell_type": "code",
   "execution_count": 1,
   "metadata": {},
   "outputs": [],
   "source": [
    "import os\n",
    "import pandas as pd\n",
    "from tqdm import tqdm"
   ]
  },
  {
   "cell_type": "code",
   "execution_count": 2,
   "metadata": {},
   "outputs": [],
   "source": [
    "listdir=os.listdir('./매입_2019')\n",
    "listdir.remove('회사')\n",
    "listdir.sort()\n",
    "listdir=listdir[1:]"
   ]
  },
  {
   "cell_type": "code",
   "execution_count": 3,
   "metadata": {},
   "outputs": [],
   "source": [
    "data=pd.read_csv(os.path.join('./매입_2019/',listdir[0]))[['no_com','no_bisocial','ty_mth2','mn_bungae','gr_name1']]\n",
    "data=data[data['gr_name1']!=('자본'  or '매출' or '기타')] # 매출원가, 도급, 분양, 제조만 남김"
   ]
  },
  {
   "cell_type": "code",
   "execution_count": 4,
   "metadata": {},
   "outputs": [],
   "source": [
    "data['ty_mth2']=data['ty_mth2'].astype('int')"
   ]
  },
  {
   "cell_type": "code",
   "execution_count": 5,
   "metadata": {},
   "outputs": [],
   "source": [
    "no_com_list=data['no_com'].unique()"
   ]
  },
  {
   "cell_type": "code",
   "execution_count": 6,
   "metadata": {},
   "outputs": [],
   "source": [
    "mount={}\n",
    "vat={}"
   ]
  },
  {
   "cell_type": "code",
   "execution_count": null,
   "metadata": {},
   "outputs": [],
   "source": [
    "'''\n",
    "dict={사업자주민번호:업종}만들기\n",
    "deal[2]를 dict로 업종으로 환산하여 mount dict에 넣기\n",
    "'''"
   ]
  },
  {
   "cell_type": "code",
   "execution_count": 7,
   "metadata": {},
   "outputs": [
    {
     "name": "stderr",
     "output_type": "stream",
     "text": [
      "100%|██████████| 1858/1858 [00:52<00:00, 35.67it/s]\n"
     ]
    }
   ],
   "source": [
    "cnt=0\n",
    "for com in tqdm(no_com_list):\n",
    "    if len(data[data['no_com']==com])>5:\n",
    "        this_com=data[data['no_com']==com]\n",
    "        \n",
    "        for deal in this_com.values :\n",
    "   \n",
    "             # mount\n",
    "            if deal[0] in mount :\n",
    "                if deal[1] in mount[deal[0]]:\n",
    "                    mount[deal[0]][deal[1]]+=deal[3]\n",
    "                else:\n",
    "                    mount[deal[0]][deal[1]]=deal[3]\n",
    "            else:\n",
    "                mount[deal[0]]={deal[1]:deal[3]}\n",
    "\n",
    "#             # vat\n",
    "#             if deal[0] in vat :\n",
    "#                 if deal[2] in vat[deal[0]]:\n",
    "#                     vat[deal[0]][deal[2]]+=1\n",
    "#                 else:\n",
    "#                     vat[deal[0]][deal[2]]=1\n",
    "#             else:\n",
    "#                 vat[deal[0]]={deal[2]:1}\n",
    "                \n",
    "            if deal[0] in vat :\n",
    "                if deal[2] in vat[deal[0]]:\n",
    "                    vat[deal[0]][deal[2]]+=deal[3]\n",
    "                else:\n",
    "                    vat[deal[0]][deal[2]]=deal[3]\n",
    "            else:\n",
    "                vat[deal[0]]={deal[2]:deal[3]}\n",
    "                "
   ]
  },
  {
   "cell_type": "raw",
   "metadata": {
    "scrolled": true
   },
   "source": [
    "mount"
   ]
  },
  {
   "cell_type": "code",
   "execution_count": 8,
   "metadata": {},
   "outputs": [
    {
     "name": "stderr",
     "output_type": "stream",
     "text": [
      "510it [00:01, 516.13it/s]/usr/local/lib/python3.6/dist-packages/ipykernel_launcher.py:7: RuntimeWarning: invalid value encountered in true_divide\n",
      "  import sys\n",
      "1597it [00:03, 505.13it/s]\n"
     ]
    }
   ],
   "source": [
    "pd.options.display.float_format='{:.5f}'.format\n",
    "df=pd.DataFrame(vat).T\n",
    "df=df.fillna(0)\n",
    "\n",
    "df_1=pd.DataFrame(columns=df.columns)\n",
    "for idx, i in tqdm(zip(df.index,df.values)):\n",
    "    df_1.loc[idx]=i/sum(i)"
   ]
  },
  {
   "cell_type": "code",
   "execution_count": 9,
   "metadata": {},
   "outputs": [
    {
     "data": {
      "text/html": [
       "<div>\n",
       "<style scoped>\n",
       "    .dataframe tbody tr th:only-of-type {\n",
       "        vertical-align: middle;\n",
       "    }\n",
       "\n",
       "    .dataframe tbody tr th {\n",
       "        vertical-align: top;\n",
       "    }\n",
       "\n",
       "    .dataframe thead th {\n",
       "        text-align: right;\n",
       "    }\n",
       "</style>\n",
       "<table border=\"1\" class=\"dataframe\">\n",
       "  <thead>\n",
       "    <tr style=\"text-align: right;\">\n",
       "      <th></th>\n",
       "      <th>51</th>\n",
       "      <th>57</th>\n",
       "      <th>52</th>\n",
       "      <th>60</th>\n",
       "      <th>53</th>\n",
       "      <th>58</th>\n",
       "      <th>55</th>\n",
       "      <th>62</th>\n",
       "      <th>61</th>\n",
       "      <th>0</th>\n",
       "      <th>54</th>\n",
       "      <th>63</th>\n",
       "    </tr>\n",
       "  </thead>\n",
       "  <tbody>\n",
       "    <tr>\n",
       "      <th>biz201907290002611</th>\n",
       "      <td>0.99956</td>\n",
       "      <td>0.00044</td>\n",
       "      <td>0.00000</td>\n",
       "      <td>0.00000</td>\n",
       "      <td>0.00000</td>\n",
       "      <td>0.00000</td>\n",
       "      <td>0.00000</td>\n",
       "      <td>0.00000</td>\n",
       "      <td>0.00000</td>\n",
       "      <td>0.00000</td>\n",
       "      <td>0.00000</td>\n",
       "      <td>0.00000</td>\n",
       "    </tr>\n",
       "    <tr>\n",
       "      <th>biz201907300001749</th>\n",
       "      <td>0.14678</td>\n",
       "      <td>0.00000</td>\n",
       "      <td>0.84844</td>\n",
       "      <td>0.00478</td>\n",
       "      <td>0.00000</td>\n",
       "      <td>0.00000</td>\n",
       "      <td>0.00000</td>\n",
       "      <td>0.00000</td>\n",
       "      <td>0.00000</td>\n",
       "      <td>0.00000</td>\n",
       "      <td>0.00000</td>\n",
       "      <td>0.00000</td>\n",
       "    </tr>\n",
       "    <tr>\n",
       "      <th>biz201907300003731</th>\n",
       "      <td>0.29702</td>\n",
       "      <td>0.00000</td>\n",
       "      <td>0.00000</td>\n",
       "      <td>0.00000</td>\n",
       "      <td>0.70213</td>\n",
       "      <td>0.00085</td>\n",
       "      <td>0.00000</td>\n",
       "      <td>0.00000</td>\n",
       "      <td>0.00000</td>\n",
       "      <td>0.00000</td>\n",
       "      <td>0.00000</td>\n",
       "      <td>0.00000</td>\n",
       "    </tr>\n",
       "    <tr>\n",
       "      <th>biz201907300013671</th>\n",
       "      <td>0.91071</td>\n",
       "      <td>0.08929</td>\n",
       "      <td>0.00000</td>\n",
       "      <td>0.00000</td>\n",
       "      <td>0.00000</td>\n",
       "      <td>0.00000</td>\n",
       "      <td>0.00000</td>\n",
       "      <td>0.00000</td>\n",
       "      <td>0.00000</td>\n",
       "      <td>0.00000</td>\n",
       "      <td>0.00000</td>\n",
       "      <td>0.00000</td>\n",
       "    </tr>\n",
       "    <tr>\n",
       "      <th>biz201907300014188</th>\n",
       "      <td>0.02994</td>\n",
       "      <td>0.00000</td>\n",
       "      <td>0.00000</td>\n",
       "      <td>0.00000</td>\n",
       "      <td>0.00000</td>\n",
       "      <td>0.00000</td>\n",
       "      <td>0.97006</td>\n",
       "      <td>0.00000</td>\n",
       "      <td>0.00000</td>\n",
       "      <td>0.00000</td>\n",
       "      <td>0.00000</td>\n",
       "      <td>0.00000</td>\n",
       "    </tr>\n",
       "    <tr>\n",
       "      <th>...</th>\n",
       "      <td>...</td>\n",
       "      <td>...</td>\n",
       "      <td>...</td>\n",
       "      <td>...</td>\n",
       "      <td>...</td>\n",
       "      <td>...</td>\n",
       "      <td>...</td>\n",
       "      <td>...</td>\n",
       "      <td>...</td>\n",
       "      <td>...</td>\n",
       "      <td>...</td>\n",
       "      <td>...</td>\n",
       "    </tr>\n",
       "    <tr>\n",
       "      <th>biz202009090013109</th>\n",
       "      <td>0.93387</td>\n",
       "      <td>0.01102</td>\n",
       "      <td>0.05512</td>\n",
       "      <td>0.00000</td>\n",
       "      <td>0.00000</td>\n",
       "      <td>0.00000</td>\n",
       "      <td>0.00000</td>\n",
       "      <td>0.00000</td>\n",
       "      <td>0.00000</td>\n",
       "      <td>0.00000</td>\n",
       "      <td>0.00000</td>\n",
       "      <td>0.00000</td>\n",
       "    </tr>\n",
       "    <tr>\n",
       "      <th>biz202009110033021</th>\n",
       "      <td>0.23227</td>\n",
       "      <td>0.00000</td>\n",
       "      <td>0.00000</td>\n",
       "      <td>0.00000</td>\n",
       "      <td>0.76449</td>\n",
       "      <td>0.00324</td>\n",
       "      <td>0.00000</td>\n",
       "      <td>0.00000</td>\n",
       "      <td>0.00000</td>\n",
       "      <td>0.00000</td>\n",
       "      <td>0.00000</td>\n",
       "      <td>0.00000</td>\n",
       "    </tr>\n",
       "    <tr>\n",
       "      <th>biz202009110037846</th>\n",
       "      <td>0.14229</td>\n",
       "      <td>0.09479</td>\n",
       "      <td>0.00000</td>\n",
       "      <td>0.00000</td>\n",
       "      <td>0.72521</td>\n",
       "      <td>0.03736</td>\n",
       "      <td>0.00000</td>\n",
       "      <td>0.00004</td>\n",
       "      <td>0.00031</td>\n",
       "      <td>0.00000</td>\n",
       "      <td>0.00000</td>\n",
       "      <td>0.00000</td>\n",
       "    </tr>\n",
       "    <tr>\n",
       "      <th>biz202009110042144</th>\n",
       "      <td>0.90606</td>\n",
       "      <td>0.09394</td>\n",
       "      <td>0.00000</td>\n",
       "      <td>0.00000</td>\n",
       "      <td>0.00000</td>\n",
       "      <td>0.00000</td>\n",
       "      <td>0.00000</td>\n",
       "      <td>0.00000</td>\n",
       "      <td>0.00000</td>\n",
       "      <td>0.00000</td>\n",
       "      <td>0.00000</td>\n",
       "      <td>0.00000</td>\n",
       "    </tr>\n",
       "    <tr>\n",
       "      <th>biz202009140027432</th>\n",
       "      <td>0.33898</td>\n",
       "      <td>0.00000</td>\n",
       "      <td>0.74975</td>\n",
       "      <td>0.00000</td>\n",
       "      <td>0.00000</td>\n",
       "      <td>0.00000</td>\n",
       "      <td>-0.08873</td>\n",
       "      <td>0.00000</td>\n",
       "      <td>0.00000</td>\n",
       "      <td>0.00000</td>\n",
       "      <td>0.00000</td>\n",
       "      <td>0.00000</td>\n",
       "    </tr>\n",
       "  </tbody>\n",
       "</table>\n",
       "<p>1597 rows × 12 columns</p>\n",
       "</div>"
      ],
      "text/plain": [
       "                        51      57      52      60      53      58       55  \\\n",
       "biz201907290002611 0.99956 0.00044 0.00000 0.00000 0.00000 0.00000  0.00000   \n",
       "biz201907300001749 0.14678 0.00000 0.84844 0.00478 0.00000 0.00000  0.00000   \n",
       "biz201907300003731 0.29702 0.00000 0.00000 0.00000 0.70213 0.00085  0.00000   \n",
       "biz201907300013671 0.91071 0.08929 0.00000 0.00000 0.00000 0.00000  0.00000   \n",
       "biz201907300014188 0.02994 0.00000 0.00000 0.00000 0.00000 0.00000  0.97006   \n",
       "...                    ...     ...     ...     ...     ...     ...      ...   \n",
       "biz202009090013109 0.93387 0.01102 0.05512 0.00000 0.00000 0.00000  0.00000   \n",
       "biz202009110033021 0.23227 0.00000 0.00000 0.00000 0.76449 0.00324  0.00000   \n",
       "biz202009110037846 0.14229 0.09479 0.00000 0.00000 0.72521 0.03736  0.00000   \n",
       "biz202009110042144 0.90606 0.09394 0.00000 0.00000 0.00000 0.00000  0.00000   \n",
       "biz202009140027432 0.33898 0.00000 0.74975 0.00000 0.00000 0.00000 -0.08873   \n",
       "\n",
       "                        62      61      0       54      63  \n",
       "biz201907290002611 0.00000 0.00000 0.00000 0.00000 0.00000  \n",
       "biz201907300001749 0.00000 0.00000 0.00000 0.00000 0.00000  \n",
       "biz201907300003731 0.00000 0.00000 0.00000 0.00000 0.00000  \n",
       "biz201907300013671 0.00000 0.00000 0.00000 0.00000 0.00000  \n",
       "biz201907300014188 0.00000 0.00000 0.00000 0.00000 0.00000  \n",
       "...                    ...     ...     ...     ...     ...  \n",
       "biz202009090013109 0.00000 0.00000 0.00000 0.00000 0.00000  \n",
       "biz202009110033021 0.00000 0.00000 0.00000 0.00000 0.00000  \n",
       "biz202009110037846 0.00004 0.00031 0.00000 0.00000 0.00000  \n",
       "biz202009110042144 0.00000 0.00000 0.00000 0.00000 0.00000  \n",
       "biz202009140027432 0.00000 0.00000 0.00000 0.00000 0.00000  \n",
       "\n",
       "[1597 rows x 12 columns]"
      ]
     },
     "execution_count": 9,
     "metadata": {},
     "output_type": "execute_result"
    }
   ],
   "source": [
    "df_1"
   ]
  },
  {
   "cell_type": "code",
   "execution_count": null,
   "metadata": {},
   "outputs": [],
   "source": [
    "# 내부 데이터는 삭제하였음"
   ]
  },
  {
   "cell_type": "raw",
   "metadata": {
    "scrolled": false
   },
   "source": [
    "mount"
   ]
  },
  {
   "cell_type": "raw",
   "metadata": {},
   "source": [
    "for deal in this_com.values :\n",
    "    print(deal)\n",
    "    if deal[0] in mount :\n",
    "        if deal[1] in mount[deal[0]]:\n",
    "            mount[deal[0]][deal[1]]+=deal[3]\n",
    "        else:\n",
    "            mount[deal[0]][deal[1]]=deal[3]\n",
    "    else:\n",
    "        mount[deal[0]]={deal[1]:deal[3]}\n",
    "        \n",
    "        \n",
    "    if deal[0] in vat :\n",
    "        if deal[2] in vat[deal[0]]:\n",
    "            vat[deal[0]][deal[2]]+=1\n",
    "        else:\n",
    "            vat[deal[0]][deal[2]]=1\n",
    "    else:\n",
    "        vat[deal[0]]={deal[2]:1}"
   ]
  },
  {
   "cell_type": "code",
   "execution_count": null,
   "metadata": {},
   "outputs": [],
   "source": [
    "51 과세 45% 중복없음(전부과세)\n",
    "52 영세 0.5% 중복 두개씩 (영세한 자로써 부가가치세 면제)\n",
    "53 면세 3% 중복 두개씩 (면세 상품으로써 부가가치세 면세)\n",
    "54 불공 3% \n",
    "55 수입 0.1% 중복 두개인것도 있음 (면세 상품이 포함되어있어서인가..?)\n",
    "56 금전 -\n",
    "57 카과 41% 중복없음(전부과세) -> 과세로 편입 (51)\n",
    "58 카면 1.4% 중복 두개씩 (면세 대상 재화를 카드를 구매하는 경우) -> 면세 편입 (53)\n",
    "59 -\n",
    "60 면건 0.02% 무증빙 면세 (한기업이 특이하게 쓰는듯함) -> 면세 편입 (53)\n",
    "61 현과 2% 중복없음 (과세 재화를 현금으로 구매하는 경우) -> 과세로 편입 (51)\n",
    "62 현면 0.2% 중복있음 (면세 재화를 현금으로 구매하는 경우) -> 면세 편입 (53)\n",
    "63 복지 0.7% (한기업이 특이하게 쓰는듯함)\n",
    "64 매세 -\n",
    "==========================편입 이후\n",
    "51 과세\n",
    "52 영세 -> 영세의 경우 클러스터링에서 제외하는 방법도 있음\n",
    "53 면세\n",
    "55 수입\n",
    "으로 축소해야함"
   ]
  },
  {
   "cell_type": "code",
   "execution_count": null,
   "metadata": {},
   "outputs": [],
   "source": []
  }
 ],
 "metadata": {
  "kernelspec": {
   "display_name": "Python 3",
   "language": "python",
   "name": "python3"
  },
  "language_info": {
   "codemirror_mode": {
    "name": "ipython",
    "version": 3
   },
   "file_extension": ".py",
   "mimetype": "text/x-python",
   "name": "python",
   "nbconvert_exporter": "python",
   "pygments_lexer": "ipython3",
   "version": "3.8.5"
  }
 },
 "nbformat": 4,
 "nbformat_minor": 4
}
