{
 "cells": [
  {
   "cell_type": "code",
   "execution_count": 10,
   "metadata": {},
   "outputs": [],
   "source": [
    "import pandas as pd\n",
    "import requests\n",
    "from selenium import webdriver\n",
    "import time\n",
    "from selenium.webdriver.common.keys import Keys\n",
    "from selenium.webdriver.common.by import By\n",
    "\n"
   ]
  },
  {
   "cell_type": "code",
   "execution_count": 11,
   "metadata": {},
   "outputs": [],
   "source": [
    "driver=webdriver.Chrome(\"chromedriver_mac64 (2)/chromedriver\")\n",
    "driver.get(url)"
   ]
  },
  {
   "cell_type": "markdown",
   "metadata": {},
   "source": [
    "# 검색하기 test 1"
   ]
  },
  {
   "cell_type": "code",
   "execution_count": 15,
   "metadata": {},
   "outputs": [],
   "source": [
    "text='--'"
   ]
  },
  {
   "cell_type": "code",
   "execution_count": 14,
   "metadata": {},
   "outputs": [],
   "source": [
    "input_text=driver.find_element(By.CLASS_NAME,\"input-text\")\n",
    "# 객채로 만들어준 후에\n",
    "\n",
    "input_text.send_keys(text) # send하고\n",
    "input_text.send_keys(Keys.RETURN) # 입력들어감"
   ]
  },
  {
   "cell_type": "code",
   "execution_count": 22,
   "metadata": {},
   "outputs": [
    {
     "data": {
      "text/plain": [
       "'메신저 보관함'"
      ]
     },
     "execution_count": 22,
     "metadata": {},
     "output_type": "execute_result"
    }
   ],
   "source": [
    "driver.find_elements_by_class_name('message-content')[-1].text\n",
    "# 꼭 class name이라하고\n",
    "# element와 elements를 구분해놓는다"
   ]
  },
  {
   "cell_type": "markdown",
   "metadata": {},
   "source": [
    "# test2"
   ]
  },
  {
   "cell_type": "code",
   "execution_count": 37,
   "metadata": {},
   "outputs": [],
   "source": [
    "text='--'\n",
    "input_text.send_keys(text)\n",
    "input_text.send_keys(Keys.RETURN) # 입력"
   ]
  },
  {
   "cell_type": "code",
   "execution_count": 38,
   "metadata": {},
   "outputs": [
    {
     "data": {
      "text/plain": [
       "'Self연말정산'"
      ]
     },
     "execution_count": 38,
     "metadata": {},
     "output_type": "execute_result"
    }
   ],
   "source": [
    "# html 읽어오기\n",
    "driver.find_elements_by_class_name('message-content')[-1].text"
   ]
  },
  {
   "cell_type": "code",
   "execution_count": 52,
   "metadata": {},
   "outputs": [
    {
     "data": {
      "text/plain": [
       "'이런 의미이신가요?'"
      ]
     },
     "execution_count": 52,
     "metadata": {},
     "output_type": "execute_result"
    }
   ],
   "source": [
    "driver.find_elements_by_class_name('message-content')[-1].text"
   ]
  },
  {
   "cell_type": "raw",
   "metadata": {},
   "source": [
    "copy elements로 보기\n",
    "<span data-v-2a183b29=\"\">나하고에서 근무시간내역을 조회할 수 있는 페이지는 어디인가요?</span>\n",
    "\n",
    "copy elements로 보기\n",
    "<button data-v-2a183b29=\"\" class=\"ui-sortable btn-option-list db-intent-answer\"><span data-v-2a183b29=\"\">나하고에서 근무시간내역을 조회할 수 있는 페이지는 어디인가요?</span></button>"
   ]
  },
  {
   "cell_type": "raw",
   "metadata": {},
   "source": [
    "\"ui-sortable btn-option-list db-intent-answer\">\n",
    "버튼은 앞이나 뒤로 짤라와야 인식됨\n",
    "버튼이 많아가지고 첫번째 버튼이 제일 확률 높은거라서 (버튼은 1~2개로 추정) 맨 아래처럼 처리해줬음\n",
    "\n",
    "\n",
    "driver.find_elements_by_class_name('db-intent-answer')[-1].text # 이것도 되고 'ui-sortable'도 되고\n",
    "\n",
    "[i.text for i in driver.find_elements_by_class_name('ui-sortable')[-3:] if i.text!=''][0]"
   ]
  },
  {
   "cell_type": "markdown",
   "metadata": {},
   "source": [
    "# 실제 데이터로 넣기"
   ]
  },
  {
   "cell_type": "code",
   "execution_count": 3,
   "metadata": {},
   "outputs": [],
   "source": [
    "train_10_5=pd.read_csv('train_10_5.csv')\n",
    "test_10_5=pd.read_csv('test_10_5.csv')"
   ]
  },
  {
   "cell_type": "code",
   "execution_count": 39,
   "metadata": {},
   "outputs": [
    {
     "data": {
      "text/plain": [
       "(50, 2)"
      ]
     },
     "execution_count": 39,
     "metadata": {},
     "output_type": "execute_result"
    }
   ],
   "source": [
    "test_10_5.shape"
   ]
  },
  {
   "cell_type": "code",
   "execution_count": 73,
   "metadata": {},
   "outputs": [],
   "source": [
    "driver=webdriver.Chrome(\"chromedriver_mac64 (2)/chromedriver\")\n",
    "driver.get(url)"
   ]
  },
  {
   "cell_type": "code",
   "execution_count": 75,
   "metadata": {},
   "outputs": [],
   "source": [
    "input_text=driver.find_element(By.CLASS_NAME,\"input-text\")"
   ]
  },
  {
   "cell_type": "code",
   "execution_count": null,
   "metadata": {},
   "outputs": [],
   "source": [
    "text_list=[]\n",
    "result_list=[]\n",
    "answer=[]\n",
    "\n",
    "for n,i in enumerate(test_10_5.values):\n",
    "    print(n)\n",
    "    text=i[0]\n",
    "    input_text.send_keys(text)\n",
    "    input_text.send_keys(Keys.RETURN)\n",
    "    time.sleep(5)\n",
    "    result=driver.find_elements_by_class_name('message-content')[-1].text\n",
    "    text_list.append(text)\n",
    "    \n",
    "    if result == '이런 의미이신가요?':\n",
    "        # 첫번째꺼 클릭하고 result 내용 바꿔주기\n",
    "        text= [i.text for i in driver.find_elements_by_class_name('ui-sortable')[-3:] if i.text!=''][0]\n",
    "        input_text.send_keys(text)\n",
    "        input_text.send_keys(Keys.RETURN)\n",
    "        time.sleep(5)\n",
    "        result=driver.find_elements_by_class_name('message-content')[-1].text\n",
    "        \n",
    "    result_list.append(result)\n",
    "    \n",
    "    if result == i[1]:\n",
    "        print(f'맞춘케이스 text: {text}, 대답: {result}') ; print('----------------------')\n",
    "        answer.append(1)\n",
    "    else:\n",
    "        answer.append(0)\n",
    "        \n",
    "    time.sleep(2)\n",
    "#     break\n",
    "        \n",
    "    "
   ]
  },
  {
   "cell_type": "code",
   "execution_count": 87,
   "metadata": {},
   "outputs": [],
   "source": [
    "df=pd.DataFrame()"
   ]
  },
  {
   "cell_type": "code",
   "execution_count": 88,
   "metadata": {},
   "outputs": [],
   "source": [
    "df['text']=text_list\n",
    "df['result']=result_list\n",
    "df['answer']=answer"
   ]
  },
  {
   "cell_type": "code",
   "execution_count": 91,
   "metadata": {},
   "outputs": [
    {
     "data": {
      "text/plain": [
       "43"
      ]
     },
     "execution_count": 91,
     "metadata": {},
     "output_type": "execute_result"
    }
   ],
   "source": [
    "answer.count(1)"
   ]
  },
  {
   "cell_type": "code",
   "execution_count": 92,
   "metadata": {},
   "outputs": [
    {
     "data": {
      "text/plain": [
       "0.86"
      ]
     },
     "execution_count": 92,
     "metadata": {},
     "output_type": "execute_result"
    }
   ],
   "source": [
    "answer.count(1)/len(answer)"
   ]
  },
  {
   "cell_type": "raw",
   "metadata": {
    "scrolled": true
   },
   "source": [
    "df"
   ]
  },
  {
   "cell_type": "code",
   "execution_count": null,
   "metadata": {},
   "outputs": [],
   "source": []
  }
 ],
 "metadata": {
  "kernelspec": {
   "display_name": "Python 3",
   "language": "python",
   "name": "python3"
  },
  "language_info": {
   "codemirror_mode": {
    "name": "ipython",
    "version": 3
   },
   "file_extension": ".py",
   "mimetype": "text/x-python",
   "name": "python",
   "nbconvert_exporter": "python",
   "pygments_lexer": "ipython3",
   "version": "3.8.5"
  }
 },
 "nbformat": 4,
 "nbformat_minor": 4
}
